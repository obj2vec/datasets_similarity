{
 "cells": [
  {
   "cell_type": "code",
   "execution_count": 1,
   "metadata": {},
   "outputs": [],
   "source": [
    "import csv"
   ]
  },
  {
   "cell_type": "code",
   "execution_count": 120,
   "metadata": {},
   "outputs": [],
   "source": [
    "def build_dict_from_csv(path, first_line_idx=0, separator=',', rating_idx=2):\n",
    "    res_dict = {}\n",
    "\n",
    "    with open(path, newline='\\n') as csv_file:\n",
    "        reader = csv.reader(csv_file, delimiter=separator)\n",
    "\n",
    "        for idx, row in enumerate(reader):\n",
    "            if idx < first_line_idx:\n",
    "                continue     \n",
    "            res_dict[row[0] + ',' + row[1]] = row[rating_idx]\n",
    "    \n",
    "    return res_dict"
   ]
  },
  {
   "cell_type": "code",
   "execution_count": 58,
   "metadata": {},
   "outputs": [],
   "source": [
    "def reverse_pair(pair_key):\n",
    "    pair = pair_key.split(',')\n",
    "    \n",
    "    return pair[1] + ',' + pair[0]"
   ]
  },
  {
   "cell_type": "code",
   "execution_count": 75,
   "metadata": {},
   "outputs": [],
   "source": [
    "def find_asymm_pairs(pairs_dict):\n",
    "    arr = list(pairs_dict.keys())\n",
    "    \n",
    "    reversed_arr = [reverse_pair(row) for row in arr]\n",
    "    direct_set = set(arr)\n",
    "    reversed_set = set(reversed_arr)\n",
    "    intersected_keys = list(set.intersection(direct_set, reversed_set))\n",
    "    \n",
    "    sym_keys = []\n",
    "\n",
    "    for key in intersected_keys:\n",
    "        if reverse_pair(key) in sym_keys or reverse_pair(key) == key:\n",
    "            continue\n",
    "        sym_keys.append(key)\n",
    "        \n",
    "    if len(sym_keys) == 0:\n",
    "        print('no asymmetrical pairs')\n",
    "    \n",
    "    for key in sym_keys:\n",
    "        val1 = pairs_dict[key]\n",
    "        val2 = pairs_dict[reverse_pair(key)]\n",
    "        print(key + ',' + val1, ';', reverse_pair(key) + ',' + val2)\n",
    "        \n",
    "    return sym_keys"
   ]
  },
  {
   "cell_type": "code",
   "execution_count": 93,
   "metadata": {},
   "outputs": [],
   "source": [
    "def find_all_symm_keys(pairs_dict):\n",
    "    arr = list(pairs_dict.keys())\n",
    "    \n",
    "    reversed_arr = [reverse_pair(row) for row in arr]\n",
    "    direct_set = set(arr)\n",
    "    reversed_set = set(reversed_arr)\n",
    "    intersected_keys = list(set.intersection(direct_set, reversed_set))\n",
    "\n",
    "    return intersected_keys"
   ]
  },
  {
   "cell_type": "markdown",
   "metadata": {},
   "source": [
    "**WordSim353**"
   ]
  },
  {
   "cell_type": "code",
   "execution_count": 95,
   "metadata": {},
   "outputs": [],
   "source": [
    "pairs_dict = build_dict_from_csv('combined.csv', 1)"
   ]
  },
  {
   "cell_type": "code",
   "execution_count": 96,
   "metadata": {},
   "outputs": [],
   "source": [
    "arr = list(pairs_dict.keys())"
   ]
  },
  {
   "cell_type": "code",
   "execution_count": 97,
   "metadata": {},
   "outputs": [
    {
     "data": {
      "text/plain": [
       "352"
      ]
     },
     "execution_count": 97,
     "metadata": {},
     "output_type": "execute_result"
    }
   ],
   "source": [
    "len(arr)"
   ]
  },
  {
   "cell_type": "code",
   "execution_count": 98,
   "metadata": {},
   "outputs": [
    {
     "data": {
      "text/plain": [
       "352"
      ]
     },
     "execution_count": 98,
     "metadata": {},
     "output_type": "execute_result"
    }
   ],
   "source": [
    "len(set(arr))"
   ]
  },
  {
   "cell_type": "markdown",
   "metadata": {},
   "source": [
    "Почему не 353???"
   ]
  },
  {
   "cell_type": "code",
   "execution_count": 99,
   "metadata": {
    "scrolled": true
   },
   "outputs": [
    {
     "name": "stdout",
     "output_type": "stream",
     "text": [
      "money,bank,8.50 ; bank,money,8.12\n"
     ]
    },
    {
     "data": {
      "text/plain": [
       "['money,bank']"
      ]
     },
     "execution_count": 99,
     "metadata": {},
     "output_type": "execute_result"
    }
   ],
   "source": [
    "find_asymm_pairs(pairs_dict)"
   ]
  },
  {
   "cell_type": "code",
   "execution_count": 100,
   "metadata": {},
   "outputs": [],
   "source": [
    "dict1 = build_dict_from_csv('set1.csv', 1)"
   ]
  },
  {
   "cell_type": "code",
   "execution_count": 101,
   "metadata": {},
   "outputs": [],
   "source": [
    "dict2 = build_dict_from_csv('set2.csv', 1)"
   ]
  },
  {
   "cell_type": "code",
   "execution_count": 102,
   "metadata": {},
   "outputs": [
    {
     "data": {
      "text/plain": [
       "152"
      ]
     },
     "execution_count": 102,
     "metadata": {},
     "output_type": "execute_result"
    }
   ],
   "source": [
    "len(dict1)"
   ]
  },
  {
   "cell_type": "code",
   "execution_count": 103,
   "metadata": {},
   "outputs": [
    {
     "data": {
      "text/plain": [
       "200"
      ]
     },
     "execution_count": 103,
     "metadata": {},
     "output_type": "execute_result"
    }
   ],
   "source": [
    "len(dict2)"
   ]
  },
  {
   "cell_type": "markdown",
   "metadata": {},
   "source": [
    "Потерялось слово в первом датасете?"
   ]
  },
  {
   "cell_type": "markdown",
   "metadata": {},
   "source": [
    "Да, потерялось, вернее было дубликатом:\n",
    "    \n",
    "*The data set is known as WordSim353 because it originally consisted of 353 noun pairs. One duplicate entry (money–cash) as well as the trivial combination tiger–tiger (which may have been included as a control item) have been omitted in the present version, however.*\n",
    "\n",
    "см. https://rdrr.io/cran/wordspace/man/WordSim353.html"
   ]
  },
  {
   "cell_type": "code",
   "execution_count": 104,
   "metadata": {},
   "outputs": [
    {
     "data": {
      "text/plain": [
       "True"
      ]
     },
     "execution_count": 104,
     "metadata": {},
     "output_type": "execute_result"
    }
   ],
   "source": [
    "'money,bank' in list(dict1.keys())"
   ]
  },
  {
   "cell_type": "code",
   "execution_count": 105,
   "metadata": {},
   "outputs": [
    {
     "data": {
      "text/plain": [
       "True"
      ]
     },
     "execution_count": 105,
     "metadata": {},
     "output_type": "execute_result"
    }
   ],
   "source": [
    "'bank,money' in list(dict1.keys())"
   ]
  },
  {
   "cell_type": "code",
   "execution_count": 106,
   "metadata": {},
   "outputs": [
    {
     "data": {
      "text/plain": [
       "False"
      ]
     },
     "execution_count": 106,
     "metadata": {},
     "output_type": "execute_result"
    }
   ],
   "source": [
    "'money,bank' in list(dict2.keys())"
   ]
  },
  {
   "cell_type": "code",
   "execution_count": 107,
   "metadata": {},
   "outputs": [
    {
     "data": {
      "text/plain": [
       "False"
      ]
     },
     "execution_count": 107,
     "metadata": {},
     "output_type": "execute_result"
    }
   ],
   "source": [
    "'bank,money' in list(dict2.keys())"
   ]
  },
  {
   "cell_type": "code",
   "execution_count": 108,
   "metadata": {},
   "outputs": [
    {
     "data": {
      "text/plain": [
       "['tiger,tiger', 'money,bank', 'bank,money']"
      ]
     },
     "execution_count": 108,
     "metadata": {},
     "output_type": "execute_result"
    }
   ],
   "source": [
    "find_all_symm_keys(pairs_dict)"
   ]
  },
  {
   "cell_type": "markdown",
   "metadata": {},
   "source": [
    "**MEN**"
   ]
  },
  {
   "cell_type": "code",
   "execution_count": 109,
   "metadata": {},
   "outputs": [],
   "source": [
    "pairs_dict = build_dict_from_csv('MEN_dataset_natural_form_full', 0, ' ')"
   ]
  },
  {
   "cell_type": "code",
   "execution_count": 110,
   "metadata": {},
   "outputs": [
    {
     "name": "stdout",
     "output_type": "stream",
     "text": [
      "no asymmetrical pairs\n"
     ]
    },
    {
     "data": {
      "text/plain": [
       "[]"
      ]
     },
     "execution_count": 110,
     "metadata": {},
     "output_type": "execute_result"
    }
   ],
   "source": [
    "find_asymm_pairs(pairs_dict)"
   ]
  },
  {
   "cell_type": "code",
   "execution_count": 111,
   "metadata": {},
   "outputs": [
    {
     "data": {
      "text/plain": [
       "[]"
      ]
     },
     "execution_count": 111,
     "metadata": {},
     "output_type": "execute_result"
    }
   ],
   "source": [
    "find_all_symm_keys(pairs_dict)"
   ]
  },
  {
   "cell_type": "code",
   "execution_count": 112,
   "metadata": {},
   "outputs": [],
   "source": [
    "pairs_dict = build_dict_from_csv('MEN_dataset_lemma_form_full', 0, ' ')"
   ]
  },
  {
   "cell_type": "code",
   "execution_count": 115,
   "metadata": {},
   "outputs": [],
   "source": [
    "speech_parts = []\n",
    "for key_pair in list(pairs_dict.keys()):\n",
    "    arr = key_pair.split(',')\n",
    "    for key in arr:\n",
    "        if key[-1] not in speech_parts:\n",
    "            speech_parts.append(key[-1])"
   ]
  },
  {
   "cell_type": "code",
   "execution_count": 116,
   "metadata": {},
   "outputs": [
    {
     "data": {
      "text/plain": [
       "['n', 'j', 'v']"
      ]
     },
     "execution_count": 116,
     "metadata": {},
     "output_type": "execute_result"
    }
   ],
   "source": [
    "speech_parts"
   ]
  },
  {
   "cell_type": "code",
   "execution_count": 118,
   "metadata": {},
   "outputs": [
    {
     "name": "stdout",
     "output_type": "stream",
     "text": [
      "n 2445 0.815\n",
      "j 383 0.12766666666666668\n",
      "v 172 0.05733333333333333\n"
     ]
    }
   ],
   "source": [
    "for speech_part in speech_parts:\n",
    "    counter = 0\n",
    "    for key_pair in list(pairs_dict.keys()):\n",
    "        if key_pair.split(',')[0][-1] == speech_part:\n",
    "            counter += 1\n",
    "    print(speech_part, counter, counter / 3000)"
   ]
  },
  {
   "cell_type": "markdown",
   "metadata": {},
   "source": [
    "**SimLex-999**"
   ]
  },
  {
   "cell_type": "code",
   "execution_count": 121,
   "metadata": {},
   "outputs": [],
   "source": [
    "pairs_dict = build_dict_from_csv('SimLex-999.txt', 1, '\\t', 3)"
   ]
  },
  {
   "cell_type": "code",
   "execution_count": 123,
   "metadata": {},
   "outputs": [
    {
     "name": "stdout",
     "output_type": "stream",
     "text": [
      "strange,sly,2.07 ; sly,strange,1.97\n"
     ]
    },
    {
     "data": {
      "text/plain": [
       "['strange,sly']"
      ]
     },
     "execution_count": 123,
     "metadata": {},
     "output_type": "execute_result"
    }
   ],
   "source": [
    "find_asymm_pairs(pairs_dict)"
   ]
  },
  {
   "cell_type": "code",
   "execution_count": 124,
   "metadata": {},
   "outputs": [
    {
     "data": {
      "text/plain": [
       "['strange,sly', 'sly,strange']"
      ]
     },
     "execution_count": 124,
     "metadata": {},
     "output_type": "execute_result"
    }
   ],
   "source": [
    "find_all_symm_keys(pairs_dict)"
   ]
  }
 ],
 "metadata": {
  "kernelspec": {
   "display_name": "Python 3",
   "language": "python",
   "name": "python3"
  },
  "language_info": {
   "codemirror_mode": {
    "name": "ipython",
    "version": 3
   },
   "file_extension": ".py",
   "mimetype": "text/x-python",
   "name": "python",
   "nbconvert_exporter": "python",
   "pygments_lexer": "ipython3",
   "version": "3.8.6"
  }
 },
 "nbformat": 4,
 "nbformat_minor": 4
}
