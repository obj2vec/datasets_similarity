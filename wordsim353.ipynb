{
 "cells": [
  {
   "cell_type": "code",
   "execution_count": 5,
   "metadata": {},
   "outputs": [
    {
     "data": {
      "text/plain": [
       "'Word 1,Word 2,Human (mean)'"
      ]
     },
     "execution_count": 5,
     "metadata": {},
     "output_type": "execute_result"
    }
   ],
   "source": [
    "f=open('wordsim353/combined.csv', 'r').readlines()\n",
    "f=[i.rstrip() for i in f]\n",
    "f[0]"
   ]
  },
  {
   "cell_type": "code",
   "execution_count": 6,
   "metadata": {},
   "outputs": [
    {
     "data": {
      "text/plain": [
       "'love'"
      ]
     },
     "execution_count": 6,
     "metadata": {},
     "output_type": "execute_result"
    }
   ],
   "source": [
    "f_0=[i.split(',')[0] for i in f[1:]]\n",
    "f_0[0]"
   ]
  },
  {
   "cell_type": "code",
   "execution_count": 7,
   "metadata": {},
   "outputs": [
    {
     "data": {
      "text/plain": [
       "'sex'"
      ]
     },
     "execution_count": 7,
     "metadata": {},
     "output_type": "execute_result"
    }
   ],
   "source": [
    "f_1=[i.split(',')[1] for i in f[1:]]\n",
    "f_1[0]"
   ]
  },
  {
   "cell_type": "code",
   "execution_count": 12,
   "metadata": {},
   "outputs": [
    {
     "data": {
      "text/plain": [
       "(206, 295, 64)"
      ]
     },
     "execution_count": 12,
     "metadata": {},
     "output_type": "execute_result"
    }
   ],
   "source": [
    "len(set(f_0)), len(set(f_1)), len(set(f_0).intersection(f_1)),"
   ]
  },
  {
   "cell_type": "code",
   "execution_count": 13,
   "metadata": {},
   "outputs": [
    {
     "data": {
      "text/plain": [
       "{'architecture',\n",
       " 'arrangement',\n",
       " 'atmosphere',\n",
       " 'bank',\n",
       " 'brother',\n",
       " 'calculation',\n",
       " 'car',\n",
       " 'century',\n",
       " 'closet',\n",
       " 'country',\n",
       " 'crane',\n",
       " 'cucumber',\n",
       " 'currency',\n",
       " 'death',\n",
       " 'development',\n",
       " 'doctor',\n",
       " 'dollar',\n",
       " 'drink',\n",
       " 'energy',\n",
       " 'environment',\n",
       " 'equipment',\n",
       " 'food',\n",
       " 'football',\n",
       " 'forest',\n",
       " 'governor',\n",
       " 'hospital',\n",
       " 'hotel',\n",
       " 'investigation',\n",
       " 'jaguar',\n",
       " 'lad',\n",
       " 'law',\n",
       " 'lawyer',\n",
       " 'liability',\n",
       " 'life',\n",
       " 'liquid',\n",
       " 'lobster',\n",
       " 'magician',\n",
       " 'man',\n",
       " 'money',\n",
       " 'monk',\n",
       " 'month',\n",
       " 'music',\n",
       " 'nature',\n",
       " 'news',\n",
       " 'noon',\n",
       " 'oil',\n",
       " 'opera',\n",
       " 'peace',\n",
       " 'phone',\n",
       " 'production',\n",
       " 'professor',\n",
       " 'profit',\n",
       " 'report',\n",
       " 'rooster',\n",
       " 'secretary',\n",
       " 'shore',\n",
       " 'space',\n",
       " 'stock',\n",
       " 'student',\n",
       " 'summer',\n",
       " 'tennis',\n",
       " 'theater',\n",
       " 'tiger',\n",
       " 'water'}"
      ]
     },
     "execution_count": 13,
     "metadata": {},
     "output_type": "execute_result"
    }
   ],
   "source": [
    "set(f_0).intersection(f_1)"
   ]
  },
  {
   "cell_type": "code",
   "execution_count": null,
   "metadata": {},
   "outputs": [],
   "source": []
  }
 ],
 "metadata": {
  "kernelspec": {
   "display_name": "Python 3",
   "language": "python",
   "name": "python3"
  },
  "language_info": {
   "codemirror_mode": {
    "name": "ipython",
    "version": 3
   },
   "file_extension": ".py",
   "mimetype": "text/x-python",
   "name": "python",
   "nbconvert_exporter": "python",
   "pygments_lexer": "ipython3",
   "version": "3.6.4"
  }
 },
 "nbformat": 4,
 "nbformat_minor": 2
}
